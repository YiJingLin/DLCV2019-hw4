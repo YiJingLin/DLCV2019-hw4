{
 "cells": [
  {
   "cell_type": "code",
   "execution_count": 10,
   "metadata": {},
   "outputs": [],
   "source": [
    "from glob import glob\n",
    "from time import time\n",
    "import os, cv2, copy\n",
    "import pandas as pd\n",
    "import numpy as np\n",
    "import matplotlib.pyplot as plt\n",
    "\n",
    "from reader import readShortVideo, getVideoList\n",
    "from utils import showFrames"
   ]
  },
  {
   "cell_type": "markdown",
   "metadata": {},
   "source": [
    "# 1. import the table contains video and label info."
   ]
  },
  {
   "cell_type": "code",
   "execution_count": null,
   "metadata": {},
   "outputs": [],
   "source": [
    "task = 'train'\n",
    "path = './hw4_data/TrimmedVideos/'\n",
    "\n",
    "train_table = pd.read_csv(os.path.join(path,'label/gt_'+task+'.csv'))\n",
    "train_table.head(3)"
   ]
  },
  {
   "cell_type": "code",
   "execution_count": null,
   "metadata": {},
   "outputs": [],
   "source": [
    "train_table.count()"
   ]
  },
  {
   "cell_type": "markdown",
   "metadata": {},
   "source": [
    "# 2. load training data and label"
   ]
  },
  {
   "cell_type": "code",
   "execution_count": null,
   "metadata": {},
   "outputs": [],
   "source": [
    "# train data\n",
    "video_path = './hw4_data/TrimmedVideos/video/'+task+'/'\n",
    "train_x = []\n",
    "train_y = []\n",
    "\n",
    "for idx, value in train_table[['Video_category', 'Video_name', 'Action_labels']].iterrows() :\n",
    "    \n",
    "    video_category = value.Video_category\n",
    "    video_name = value.Video_name\n",
    "\n",
    "    def custom_VideoNameExtractor(video_path, video_category, video_name):\n",
    "        video_name = glob(os.path.join(video_path, video_category, video_name)+'*')[0]\n",
    "        video_name = video_name.split('/')[-1]\n",
    "        return video_name\n",
    "    video_name = custom_VideoNameExtractor(video_path, video_category, video_name)\n",
    "    \n",
    "    try:\n",
    "        \n",
    "        frames =  readShortVideo(video_path=video_path, \n",
    "                                 video_category=video_category, \n",
    "                                 video_name = video_name)\n",
    "        train_x.append(frames / 255)\n",
    "        train_y.append(value.Action_labels)\n",
    "    except Exception as e:\n",
    "        print(e)\n",
    "        \n",
    "    if (idx+1) % 100 == 0 :\n",
    "        print(\"[INFO] loading progress, (%s/%s)\" % ((idx+1), len(train_table)))\n",
    "    \n",
    "    \n",
    "print(\"[INFO] load train_x successfully, train_x length :\", len(train_x))"
   ]
  },
  {
   "cell_type": "markdown",
   "metadata": {},
   "source": [
    "# load pretrained model"
   ]
  },
  {
   "cell_type": "code",
   "execution_count": null,
   "metadata": {},
   "outputs": [],
   "source": [
    "import torch\n",
    "from torch.autograd import Variable\n",
    "from torch import nn\n",
    "from torch import optim"
   ]
  },
  {
   "cell_type": "code",
   "execution_count": null,
   "metadata": {},
   "outputs": [],
   "source": [
    "# Multi Frame VGG model\n",
    "class MFVGG(nn.Module):\n",
    "    def __init__(self, backend='vgg16', pretrained=True, n_label=11):\n",
    "        super(MFVGG, self).__init__()\n",
    "        \n",
    "        ### check valid \n",
    "        if backend in ['vgg13', 'vgg13_bn', 'vgg16', 'vgg16_bn']:\n",
    "            pass\n",
    "        else :\n",
    "            print(\"[INFO] invalid backend '%s', change to 'vgg16_bn'\" % backend)\n",
    "            backend = 'vgg16_bn'\n",
    "        \n",
    "        ### init param\n",
    "        self.backend = backend\n",
    "        self.pretrained = pretrained\n",
    "        # model flow\n",
    "        self.features = None\n",
    "        self.avgpool = None\n",
    "        self.classifier = None\n",
    "        self.outLayer = None # customize output for task : Linear(1000, 11)\n",
    "        \n",
    "        ### init process\n",
    "        self.load_pretrained() # load features\n",
    "        self.create_classifier(n_label) # create last layer\n",
    "#         self.fix_features() # fix features weights\n",
    "        \n",
    "    def forward(self, input):\n",
    "        '''\n",
    "        input shape : (frame, channel, height, weight)\n",
    "        output shape : (1, cls)\n",
    "        '''\n",
    "        f, c, h, w = input.shape\n",
    "        \n",
    "        # regard f:frames as b:batch\n",
    "        x = self.features(input) # shape : (f, 512, 7, 10)\n",
    "        x = self.avgpool(x) # shape (f, 512, 7, 7)      \n",
    "        \n",
    "        x = torch.flatten(x, start_dim=1) # (f, 25088)\n",
    "        x = torch.mean(x, 0, keepdim=True) # (1, 25088)\n",
    "        \n",
    "        x = self.classifier(x) # out shape : (1, 11)\n",
    "        \n",
    "        return x\n",
    "    \n",
    "    def load_pretrained(self):\n",
    "        import torchvision.models as models\n",
    "        backend_model = None\n",
    "        try:\n",
    "            if self.backend == 'vgg13' :\n",
    "                backend_model = models.vgg13(pretrained=self.pretrained)\n",
    "            elif self.backend == 'vgg13_bn' :\n",
    "                backend_model = models.vgg13_bn(pretrained=self.pretrained)\n",
    "            elif self.backend == 'vgg16' :\n",
    "                backend_model = models.vgg16(pretrained=self.pretrained)\n",
    "            elif self.backend == 'vgg16_bn':\n",
    "                backend_model = models.vgg16_bn(pretrained=self.pretrained)\n",
    "            \n",
    "            \n",
    "            else :\n",
    "                raise ValueError(\"[ERROR] Unexpected backend name pass through previous check then into load_pretrained() .\")\n",
    "            # copy features flow\n",
    "            self.features = copy.deepcopy(backend_model.features) \n",
    "            self.avgpool = copy.deepcopy(backend_model.avgpool)\n",
    "            print(\"[INFO] load pretrained features successfully, backend : %s\" % self.backend)\n",
    "        except Exception as e:\n",
    "            print(e)\n",
    "                    \n",
    "    def create_classifier(self, n_label=11):\n",
    "        try:\n",
    "            if self.backend in ['vgg13', 'vgg13_bn', 'vgg16', 'vgg16_bn'] :\n",
    "                self.classifier = nn.Sequential(\n",
    "                    nn.Linear(25088, 4096),\n",
    "                    nn.ReLU(inplace=True),\n",
    "                    nn.Dropout(0.5),\n",
    "                    nn.Linear(4096, 4096),\n",
    "                    nn.ReLU(inplace=True),\n",
    "                    nn.Dropout(0.5),\n",
    "                    nn.Linear(4096, 1000),\n",
    "                    nn.Linear(1000, 11),\n",
    "                    nn.Softmax(),\n",
    "                )\n",
    "            else :\n",
    "                raise ValueError(\"[ERROR] Unexpected backend name pass through previous check then into create_outLayer() .\")\n",
    "        except Exception as e:\n",
    "            print(e)\n",
    "                \n",
    "    def fix_features(self): # fix features weights\n",
    "        for param in self.features.parameters():\n",
    "            param.requires_grad = False\n",
    "\n",
    "\n",
    "model = MFVGG(backend='vgg13_bn', pretrained=False)\n",
    "            "
   ]
  },
  {
   "cell_type": "raw",
   "metadata": {},
   "source": [
    "import torchvision.models as models\n",
    "\n",
    "# modell = models.vgg13()\n",
    "model = models.resnet18()\n",
    "model"
   ]
  },
  {
   "cell_type": "markdown",
   "metadata": {},
   "source": [
    "# train model"
   ]
  },
  {
   "cell_type": "code",
   "execution_count": null,
   "metadata": {},
   "outputs": [],
   "source": [
    "# GPU is useless when batch size = 1\n",
    "device = torch.device(\"cuda\" if torch.cuda.is_available() else \"cpu\")"
   ]
  },
  {
   "cell_type": "code",
   "execution_count": null,
   "metadata": {},
   "outputs": [],
   "source": [
    "from torch import FloatTensor, LongTensor\n",
    "\n",
    "\n",
    "epochs = 300\n",
    "lr=1e-4\n",
    "\n",
    "criterion = nn.CrossEntropyLoss().to(device)\n",
    "optimizer = optim.Adam(model.classifier.parameters(), lr=lr)\n",
    "model.to(device)\n",
    "\n",
    "\n",
    "#################### history ####################\n",
    "history = {}\n",
    "history['loss'] = []\n",
    "history['acc'] = []\n",
    "\n",
    "history['err'] = {}\n",
    "history['err']['epoch'] = []\n",
    "history['err']['err_idx'] = []\n",
    "history['err']['err_msg'] = []\n",
    "#################################################\n",
    "\n",
    "\n",
    "for epoch in range(epochs):\n",
    "    start_time = time()\n",
    "    total_loss = 0.\n",
    "    acc = 0.\n",
    "    cnt = 0\n",
    "    \n",
    "    for idx, (x, y) in enumerate(zip(train_x, train_y)):\n",
    "        x = np.transpose(x, (0,3,1,2)) # transpose for torch input : shape (f, 240, 320, 3) --> (f, 3, 240, 320)\n",
    "        y = np.array([y]) # shape (1,)\n",
    "        \n",
    "        try: \n",
    "            x = Variable(FloatTensor(x)).to(device)\n",
    "            y = Variable(LongTensor(y)).to(device)\n",
    "        \n",
    "            optimizer.zero_grad()\n",
    "            pred = model(x)\n",
    "            loss = criterion(pred, y)\n",
    "            loss.backward()\n",
    "            optimizer.step()\n",
    "            \n",
    "            acc += 1. if pred.argmax().item() == y.item() else 0.\n",
    "            total_loss += loss.item()\n",
    "            cnt += 1\n",
    "        except Exception as e:\n",
    "            history['err']['epoch'].append(epoch)\n",
    "            history['err']['err_idx'].append(idx)\n",
    "            history['err']['err_msg'].append(str(e))\n",
    "\n",
    "    history['loss'].append(total_loss/cnt)\n",
    "    history['acc'].append((100*acc)/cnt)\n",
    "    print('[INFO] epoch (%d/%d), cost: %d sec | loss : %.6f | acc : %.2f%%' % (epoch, epochs, (time()-start_time), (total_loss/cnt), ((100*acc)/cnt)))\n"
   ]
  },
  {
   "cell_type": "code",
   "execution_count": null,
   "metadata": {},
   "outputs": [],
   "source": [
    "from torch import FloatTensor, LongTensor\n",
    "model.eval()\n",
    "for idx, x in enumerate(train_x):\n",
    "    x = np.transpose(x, (0,3,1,2))\n",
    "    x = Variable(FloatTensor(x))\n",
    "    pred = model(x).argmax().item()\n",
    "    print(pred)\n",
    "    break"
   ]
  },
  {
   "cell_type": "code",
   "execution_count": null,
   "metadata": {},
   "outputs": [],
   "source": [
    "torch.save(model.classifier.state_dict(), './storage/MFVGG_classifier.pkl')"
   ]
  },
  {
   "cell_type": "code",
   "execution_count": null,
   "metadata": {},
   "outputs": [],
   "source": [
    "cnt = 0\n",
    "for x in train_x:\n",
    "    if x.shape[0] <= 2 :\n",
    "        print(x.shape)\n",
    "        cnt += 1"
   ]
  },
  {
   "cell_type": "code",
   "execution_count": null,
   "metadata": {},
   "outputs": [],
   "source": [
    "import pickle\n",
    "\n",
    "\n",
    "with open('./storage/history_p1_avgpool_MFVGG_epoch160', 'wb') as handle:\n",
    "    pickle.dump(history, handle, protocol=pickle.HIGHEST_PROTOCOL)"
   ]
  },
  {
   "cell_type": "markdown",
   "metadata": {},
   "source": [
    "# valid & report"
   ]
  },
  {
   "cell_type": "markdown",
   "metadata": {},
   "source": [
    "### 2. Report your video recognition performance (valid) using CNN-based video features and make your code reproduce this result. (5%)"
   ]
  },
  {
   "cell_type": "code",
   "execution_count": 4,
   "metadata": {},
   "outputs": [],
   "source": [
    "import pandas as pd\n",
    "import numpy as np\n",
    "import os\n"
   ]
  },
  {
   "cell_type": "code",
   "execution_count": null,
   "metadata": {},
   "outputs": [],
   "source": [
    "# load label\n",
    "task = 'valid'\n",
    "path = './hw4_data/TrimmedVideos/'\n",
    "\n",
    "table = pd.read_csv(os.path.join(path,'label/gt_'+task+'.csv'))\n",
    "label = table['Action_labels']\n",
    "len(label)\n",
    "\n",
    "\n",
    "# load pred\n",
    "pred = []\n",
    "with open('./output/p1_valid.txt', 'r') as file:\n",
    "    for line in file:\n",
    "        pred.append(int(line.replace('\\n','')))\n",
    "len(pred)\n",
    "\n",
    "# eval\n",
    "(np.array(label) == np.array(pred)).sum() / len(pred)"
   ]
  },
  {
   "cell_type": "code",
   "execution_count": null,
   "metadata": {},
   "outputs": [],
   "source": [
    "## import pickle\n",
    "\n",
    "history = None\n",
    "with open('./storage/history_p1_avgpool_MFVGG_epoch160', 'rb') as file:\n",
    "    history = pickle.load(file)\n",
    "    \n",
    "    \n",
    "    \n",
    "# plot loss and acc\n",
    "loss = history['loss']\n",
    "# acc = history['acc']\n",
    "acc = np.array(acc)\n",
    "acc += 0.11\n",
    "\n",
    "x = np.arange(len(loss))\n",
    "\n",
    "plt.plot(x, loss)\n",
    "# plt.plot(x, acc)\n",
    "\n",
    "plt.legend(['loss'], loc='upper right')\n",
    "plt.show()"
   ]
  },
  {
   "cell_type": "markdown",
   "metadata": {},
   "source": [
    "### 3. Visualize CNN-based video features to 2D space (with tSNE) in your report. You need to color them with respect to different action labels. (10%)"
   ]
  },
  {
   "cell_type": "code",
   "execution_count": 20,
   "metadata": {},
   "outputs": [
    {
     "name": "stdout",
     "output_type": "stream",
     "text": [
      "[INFO] loading progress, (100/769)\n",
      "[INFO] loading progress, (200/769)\n",
      "[INFO] loading progress, (300/769)\n",
      "[INFO] loading progress, (400/769)\n",
      "[INFO] loading progress, (500/769)\n",
      "[INFO] loading progress, (600/769)\n",
      "[INFO] loading progress, (700/769)\n",
      "[INFO] load train_x successfully, train_x length : 769\n"
     ]
    }
   ],
   "source": [
    "task = 'valid'\n",
    "path = './hw4_data/TrimmedVideos/'\n",
    "\n",
    "train_table = pd.read_csv(os.path.join(path,'label/gt_'+task+'.csv'))\n",
    "train_table.head(3)\n",
    "\n",
    "\n",
    "video_path = './hw4_data/TrimmedVideos/video/'+task+'/'\n",
    "train_x = []\n",
    "train_y = []\n",
    "\n",
    "for idx, value in train_table[['Video_category', 'Video_name', 'Action_labels']].iterrows() :\n",
    "    \n",
    "    video_category = value.Video_category\n",
    "    video_name = value.Video_name\n",
    "\n",
    "    def custom_VideoNameExtractor(video_path, video_category, video_name):\n",
    "        video_name = glob(os.path.join(video_path, video_category, video_name)+'*')[0]\n",
    "        video_name = video_name.split('/')[-1]\n",
    "        return video_name\n",
    "    video_name = custom_VideoNameExtractor(video_path, video_category, video_name)\n",
    "    \n",
    "    try:\n",
    "        \n",
    "        frames =  readShortVideo(video_path=video_path, \n",
    "                                 video_category=video_category, \n",
    "                                 video_name = video_name)\n",
    "        train_x.append(frames / 255)\n",
    "        train_y.append(value.Action_labels)\n",
    "    except Exception as e:\n",
    "        print(e)\n",
    "        \n",
    "    if (idx+1) % 100 == 0 :\n",
    "        print(\"[INFO] loading progress, (%s/%s)\" % ((idx+1), len(train_table)))\n",
    "    \n",
    "print(\"[INFO] load train_x successfully, train_x length :\", len(train_x))"
   ]
  },
  {
   "cell_type": "code",
   "execution_count": 7,
   "metadata": {},
   "outputs": [
    {
     "name": "stdout",
     "output_type": "stream",
     "text": [
      "[INFO] load pretrained features successfully, backend : vgg13_bn\n"
     ]
    }
   ],
   "source": [
    "# load model\n",
    "\n",
    "from model.MFVGG import MFVGG\n",
    "import torch\n",
    "model = MFVGG(backend='vgg13_bn')\n",
    "\n",
    "device = torch.device(\"cuda\" if torch.cuda.is_available() else \"cpu\")\n",
    "model.to(device)\n",
    "model.eval()\n",
    "if device == 'cuda':\n",
    "    model.classifier.load_state_dict(torch.load(os.path.join('./storage/MFVGG_classifier.pkl')))\n",
    "else :\n",
    "    model.classifier.load_state_dict(torch.load(os.path.join('./storage/MFVGG_classifier.pkl'), map_location=lambda storage, loc: storage))"
   ]
  },
  {
   "cell_type": "code",
   "execution_count": 63,
   "metadata": {},
   "outputs": [
    {
     "name": "stdout",
     "output_type": "stream",
     "text": [
      "23 CUDA out of memory. Tried to allocate 1.15 GiB (GPU 0; 7.93 GiB total capacity; 5.96 GiB already allocated; 287.19 MiB free; 595.74 MiB cached)\n",
      "24 CUDA out of memory. Tried to allocate 63.38 MiB (GPU 0; 7.93 GiB total capacity; 6.70 GiB already allocated; 31.19 MiB free; 88.87 MiB cached)\n",
      "25 CUDA out of memory. Tried to allocate 318.75 MiB (GPU 0; 7.93 GiB total capacity; 6.05 GiB already allocated; 287.19 MiB free; 499.24 MiB cached)\n",
      "60 CUDA out of memory. Tried to allocate 1.12 GiB (GPU 0; 7.93 GiB total capacity; 5.85 GiB already allocated; 287.19 MiB free; 709.99 MiB cached)\n",
      "90 CUDA out of memory. Tried to allocate 63.38 MiB (GPU 0; 7.93 GiB total capacity; 6.70 GiB already allocated; 31.19 MiB free; 88.87 MiB cached)\n",
      "109 CUDA out of memory. Tried to allocate 309.38 MiB (GPU 0; 7.93 GiB total capacity; 6.25 GiB already allocated; 287.19 MiB free; 298.49 MiB cached)\n",
      "111 CUDA out of memory. Tried to allocate 145.38 MiB (GPU 0; 7.93 GiB total capacity; 6.51 GiB already allocated; 141.19 MiB free; 171.37 MiB cached)\n",
      "145 CUDA out of memory. Tried to allocate 993.75 MiB (GPU 0; 7.93 GiB total capacity; 5.40 GiB already allocated; 287.19 MiB free; 1.14 GiB cached)\n",
      "155 CUDA out of memory. Tried to allocate 63.38 MiB (GPU 0; 7.93 GiB total capacity; 6.70 GiB already allocated; 31.19 MiB free; 88.87 MiB cached)\n",
      "173 CUDA out of memory. Tried to allocate 136.00 MiB (GPU 0; 7.93 GiB total capacity; 6.65 GiB already allocated; 15.19 MiB free; 158.99 MiB cached)\n",
      "220 CUDA out of memory. Tried to allocate 15.25 MiB (GPU 0; 7.93 GiB total capacity; 6.75 GiB already allocated; 15.19 MiB free; 55.99 MiB cached)\n",
      "230 CUDA out of memory. Tried to allocate 440.62 MiB (GPU 0; 7.93 GiB total capacity; 6.14 GiB already allocated; 287.19 MiB free; 408.12 MiB cached)\n",
      "252 CUDA out of memory. Tried to allocate 112.50 MiB (GPU 0; 7.93 GiB total capacity; 6.56 GiB already allocated; 61.19 MiB free; 198.74 MiB cached)\n",
      "253 CUDA out of memory. Tried to allocate 956.25 MiB (GPU 0; 7.93 GiB total capacity; 5.21 GiB already allocated; 287.19 MiB free; 1.32 GiB cached)\n",
      "255 CUDA out of memory. Tried to allocate 281.25 MiB (GPU 0; 7.93 GiB total capacity; 6.21 GiB already allocated; 287.19 MiB free; 334.12 MiB cached)\n",
      "256 CUDA out of memory. Tried to allocate 675.00 MiB (GPU 0; 7.93 GiB total capacity; 5.31 GiB already allocated; 287.19 MiB free; 1.23 GiB cached)\n",
      "257 CUDA out of memory. Tried to allocate 112.50 MiB (GPU 0; 7.93 GiB total capacity; 6.56 GiB already allocated; 61.19 MiB free; 198.74 MiB cached)\n",
      "267 CUDA out of memory. Tried to allocate 675.00 MiB (GPU 0; 7.93 GiB total capacity; 5.31 GiB already allocated; 287.19 MiB free; 1.23 GiB cached)\n",
      "270 CUDA out of memory. Tried to allocate 956.25 MiB (GPU 0; 7.93 GiB total capacity; 5.21 GiB already allocated; 287.19 MiB free; 1.32 GiB cached)\n",
      "274 CUDA out of memory. Tried to allocate 993.75 MiB (GPU 0; 7.93 GiB total capacity; 5.29 GiB already allocated; 287.19 MiB free; 1.25 GiB cached)\n",
      "287 CUDA out of memory. Tried to allocate 1.03 GiB (GPU 0; 7.93 GiB total capacity; 5.40 GiB already allocated; 287.19 MiB free; 1.14 GiB cached)\n",
      "289 CUDA out of memory. Tried to allocate 300.00 MiB (GPU 0; 7.93 GiB total capacity; 6.11 GiB already allocated; 287.19 MiB free; 435.49 MiB cached)\n",
      "296 CUDA out of memory. Tried to allocate 712.50 MiB (GPU 0; 7.93 GiB total capacity; 5.42 GiB already allocated; 287.19 MiB free; 1.12 GiB cached)\n",
      "298 CUDA out of memory. Tried to allocate 862.50 MiB (GPU 0; 7.93 GiB total capacity; 5.87 GiB already allocated; 287.19 MiB free; 685.62 MiB cached)\n",
      "300 CUDA out of memory. Tried to allocate 918.75 MiB (GPU 0; 7.93 GiB total capacity; 5.14 GiB already allocated; 287.19 MiB free; 1.40 GiB cached)\n",
      "303 CUDA out of memory. Tried to allocate 2.53 GiB (GPU 0; 7.93 GiB total capacity; 3.42 GiB already allocated; 347.19 MiB free; 3.06 GiB cached)\n",
      "305 CUDA out of memory. Tried to allocate 1.14 GiB (GPU 0; 7.93 GiB total capacity; 5.63 GiB already allocated; 347.19 MiB free; 875.49 MiB cached)\n",
      "320 CUDA out of memory. Tried to allocate 1.23 GiB (GPU 0; 7.93 GiB total capacity; 4.59 GiB already allocated; 347.19 MiB free; 1.89 GiB cached)\n",
      "322 CUDA out of memory. Tried to allocate 1.50 GiB (GPU 0; 7.93 GiB total capacity; 4.88 GiB already allocated; 347.19 MiB free; 1.61 GiB cached)\n",
      "330 CUDA out of memory. Tried to allocate 253.12 MiB (GPU 0; 7.93 GiB total capacity; 6.17 GiB already allocated; 93.19 MiB free; 573.37 MiB cached)\n",
      "332 CUDA out of memory. Tried to allocate 2.75 GiB (GPU 0; 7.93 GiB total capacity; 3.43 GiB already allocated; 347.19 MiB free; 3.05 GiB cached)\n",
      "334 CUDA out of memory. Tried to allocate 117.25 MiB (GPU 0; 7.93 GiB total capacity; 6.59 GiB already allocated; 111.19 MiB free; 127.37 MiB cached)\n",
      "337 CUDA out of memory. Tried to allocate 1012.50 MiB (GPU 0; 7.93 GiB total capacity; 5.33 GiB already allocated; 347.19 MiB free; 1.15 GiB cached)\n",
      "339 CUDA out of memory. Tried to allocate 1.68 GiB (GPU 0; 7.93 GiB total capacity; 5.07 GiB already allocated; 347.19 MiB free; 1.42 GiB cached)\n",
      "343 CUDA out of memory. Tried to allocate 1.10 GiB (GPU 0; 7.93 GiB total capacity; 5.55 GiB already allocated; 347.19 MiB free; 952.24 MiB cached)\n",
      "346 CUDA out of memory. Tried to allocate 290.62 MiB (GPU 0; 7.93 GiB total capacity; 6.59 GiB already allocated; 55.19 MiB free; 176.12 MiB cached)\n",
      "359 CUDA out of memory. Tried to allocate 787.50 MiB (GPU 0; 7.93 GiB total capacity; 5.65 GiB already allocated; 347.19 MiB free; 855.49 MiB cached)\n",
      "386 CUDA out of memory. Tried to allocate 262.50 MiB (GPU 0; 7.93 GiB total capacity; 6.28 GiB already allocated; 83.19 MiB free; 474.12 MiB cached)\n",
      "388 CUDA out of memory. Tried to allocate 271.88 MiB (GPU 0; 7.93 GiB total capacity; 6.38 GiB already allocated; 75.19 MiB free; 374.74 MiB cached)\n",
      "391 CUDA out of memory. Tried to allocate 51.62 MiB (GPU 0; 7.93 GiB total capacity; 6.72 GiB already allocated; 23.19 MiB free; 78.37 MiB cached)\n",
      "414 CUDA out of memory. Tried to allocate 112.50 MiB (GPU 0; 7.93 GiB total capacity; 6.56 GiB already allocated; 23.19 MiB free; 238.62 MiB cached)\n",
      "416 CUDA out of memory. Tried to allocate 862.50 MiB (GPU 0; 7.93 GiB total capacity; 5.87 GiB already allocated; 295.19 MiB free; 678.62 MiB cached)\n",
      "438 CUDA out of memory. Tried to allocate 675.00 MiB (GPU 0; 7.93 GiB total capacity; 5.31 GiB already allocated; 295.19 MiB free; 1.22 GiB cached)\n",
      "456 CUDA out of memory. Tried to allocate 51.62 MiB (GPU 0; 7.93 GiB total capacity; 6.72 GiB already allocated; 35.19 MiB free; 64.37 MiB cached)\n",
      "473 CUDA out of memory. Tried to allocate 262.50 MiB (GPU 0; 7.93 GiB total capacity; 6.28 GiB already allocated; 31.19 MiB free; 525.74 MiB cached)\n",
      "489 CUDA out of memory. Tried to allocate 262.50 MiB (GPU 0; 7.93 GiB total capacity; 6.28 GiB already allocated; 31.19 MiB free; 525.74 MiB cached)\n",
      "491 CUDA out of memory. Tried to allocate 112.50 MiB (GPU 0; 7.93 GiB total capacity; 6.56 GiB already allocated; 31.19 MiB free; 229.24 MiB cached)\n",
      "513 CUDA out of memory. Tried to allocate 750.00 MiB (GPU 0; 7.93 GiB total capacity; 5.53 GiB already allocated; 295.19 MiB free; 1021.37 MiB cached)\n",
      "520 CUDA out of memory. Tried to allocate 1.06 GiB (GPU 0; 7.93 GiB total capacity; 5.48 GiB already allocated; 295.19 MiB free; 1.05 GiB cached)\n",
      "531 CUDA out of memory. Tried to allocate 49.25 MiB (GPU 0; 7.93 GiB total capacity; 6.66 GiB already allocated; 45.19 MiB free; 113.12 MiB cached)\n",
      "532 CUDA out of memory. Tried to allocate 787.50 MiB (GPU 0; 7.93 GiB total capacity; 5.65 GiB already allocated; 297.19 MiB free; 904.74 MiB cached)\n",
      "533 CUDA out of memory. Tried to allocate 900.00 MiB (GPU 0; 7.93 GiB total capacity; 5.10 GiB already allocated; 297.19 MiB free; 1.43 GiB cached)\n",
      "541 CUDA out of memory. Tried to allocate 117.25 MiB (GPU 0; 7.93 GiB total capacity; 6.59 GiB already allocated; 61.19 MiB free; 176.62 MiB cached)\n",
      "551 CUDA out of memory. Tried to allocate 290.62 MiB (GPU 0; 7.93 GiB total capacity; 6.31 GiB already allocated; 297.19 MiB free; 225.37 MiB cached)\n",
      "557 CUDA out of memory. Tried to allocate 300.00 MiB (GPU 0; 7.93 GiB total capacity; 6.11 GiB already allocated; 297.19 MiB free; 426.12 MiB cached)\n",
      "578 CUDA out of memory. Tried to allocate 1.01 GiB (GPU 0; 7.93 GiB total capacity; 5.37 GiB already allocated; 297.19 MiB free; 1.16 GiB cached)\n"
     ]
    },
    {
     "name": "stdout",
     "output_type": "stream",
     "text": [
      "598 CUDA out of memory. Tried to allocate 675.00 MiB (GPU 0; 7.93 GiB total capacity; 5.31 GiB already allocated; 297.19 MiB free; 1.22 GiB cached)\n",
      "610 CUDA out of memory. Tried to allocate 900.00 MiB (GPU 0; 7.93 GiB total capacity; 5.10 GiB already allocated; 297.19 MiB free; 1.43 GiB cached)\n",
      "613 CUDA out of memory. Tried to allocate 262.50 MiB (GPU 0; 7.93 GiB total capacity; 6.28 GiB already allocated; 33.19 MiB free; 523.37 MiB cached)\n",
      "646 CUDA out of memory. Tried to allocate 112.50 MiB (GPU 0; 7.93 GiB total capacity; 6.56 GiB already allocated; 33.19 MiB free; 226.87 MiB cached)\n",
      "651 CUDA out of memory. Tried to allocate 1012.50 MiB (GPU 0; 7.93 GiB total capacity; 5.33 GiB already allocated; 297.19 MiB free; 1.20 GiB cached)\n",
      "681 CUDA out of memory. Tried to allocate 1.39 GiB (GPU 0; 7.93 GiB total capacity; 4.76 GiB already allocated; 347.19 MiB free; 1.72 GiB cached)\n",
      "682 CUDA out of memory. Tried to allocate 49.25 MiB (GPU 0; 7.93 GiB total capacity; 6.66 GiB already allocated; 47.19 MiB free; 110.74 MiB cached)\n",
      "685 CUDA out of memory. Tried to allocate 262.50 MiB (GPU 0; 7.93 GiB total capacity; 6.28 GiB already allocated; 33.19 MiB free; 523.37 MiB cached)\n",
      "688 CUDA out of memory. Tried to allocate 1.17 GiB (GPU 0; 7.93 GiB total capacity; 5.70 GiB already allocated; 347.19 MiB free; 798.74 MiB cached)\n",
      "707 CUDA out of memory. Tried to allocate 2.09 GiB (GPU 0; 7.93 GiB total capacity; 3.40 GiB already allocated; 347.19 MiB free; 3.08 GiB cached)\n",
      "726 CUDA out of memory. Tried to allocate 693.75 MiB (GPU 0; 7.93 GiB total capacity; 5.37 GiB already allocated; 347.06 MiB free; 1.11 GiB cached)\n",
      "740 CUDA out of memory. Tried to allocate 117.25 MiB (GPU 0; 7.93 GiB total capacity; 6.59 GiB already allocated; 111.06 MiB free; 127.37 MiB cached)\n",
      "749 CUDA out of memory. Tried to allocate 1.21 GiB (GPU 0; 7.93 GiB total capacity; 5.78 GiB already allocated; 347.06 MiB free; 721.87 MiB cached)\n",
      "762 CUDA out of memory. Tried to allocate 862.50 MiB (GPU 0; 7.93 GiB total capacity; 5.87 GiB already allocated; 347.06 MiB free; 626.99 MiB cached)\n"
     ]
    }
   ],
   "source": [
    "from matplotlib import pyplot as plt\n",
    "\n",
    "from torch import FloatTensor\n",
    "from torch.autograd import Variable\n",
    "\n",
    "features = []\n",
    "ys = []\n",
    "model.cuda()\n",
    "for idx, (x,y) in enumerate(zip(train_x, train_y)):\n",
    "    try:\n",
    "        x = np.transpose(x, (0,3,1,2))\n",
    "        x = Variable(FloatTensor(x)).cuda()\n",
    "        x = model.features(x)\n",
    "        \n",
    "        x = model.avgpool(x) # shape (f, 512, 7, 7)  \n",
    "        x = torch.flatten(x, start_dim=1)\n",
    "        x = torch.mean(x, 0, keepdim=True) # (1, 25088)\n",
    "        x = torch.squeeze(x, 0) # (25088)\n",
    "        \n",
    "        x = x.cpu()\n",
    "        features.append(torch.squeeze(x,0).detach().numpy())\n",
    "        ys.append(y)\n",
    "    except Exception as e:\n",
    "        print(idx, e)\n",
    "#     if idx > 100:\n",
    "#         break\n",
    "\n",
    "\n",
    "\n",
    "ys = np.array(ys)"
   ]
  },
  {
   "cell_type": "code",
   "execution_count": 64,
   "metadata": {},
   "outputs": [
    {
     "data": {
      "text/plain": [
       "(699, 2)"
      ]
     },
     "execution_count": 64,
     "metadata": {},
     "output_type": "execute_result"
    }
   ],
   "source": [
    "from sklearn.manifold import TSNE\n",
    "from sklearn.decomposition import PCA\n",
    "\n",
    "\n",
    "features = np.array(features)\n",
    "X_embedded = PCA(n_components=100).fit_transform(features)\n",
    "X_embedded = TSNE(n_components=2).fit_transform(X_embedded)\n",
    "X_embedded.shape"
   ]
  },
  {
   "cell_type": "code",
   "execution_count": 65,
   "metadata": {},
   "outputs": [
    {
     "name": "stdout",
     "output_type": "stream",
     "text": [
      "10 list index out of range\n"
     ]
    },
    {
     "data": {
      "image/png": "[encoded data removed]",
      "text/plain": [
       "<Figure size 432x288 with 1 Axes>"
      ]
     },
     "metadata": {
      "needs_background": "light"
     },
     "output_type": "display_data"
    }
   ],
   "source": [
    "# cmap = [\n",
    "#             'PiYG', 'PRGn', 'BrBG', 'PuOr', 'RdGy', 'RdBu',\n",
    "#             'RdYlBu', 'RdYlGn', 'Spectral', 'coolwarm', 'bwr', 'seismic']\n",
    "cmap = ['C0','C1','C2','C3','C4','C5', 'C6','C7','C8','C9']\n",
    "\n",
    "for label in range(0,11):\n",
    "    try:\n",
    "        selected_data = X_embedded[np.where(ys == label)]\n",
    "        plt.scatter(selected_data[:,0], selected_data[:,1], c=cmap[label])\n",
    "    except Exception as e:\n",
    "        print(label, e)\n",
    "plt.show()\n"
   ]
  },
  {
   "cell_type": "code",
   "execution_count": 52,
   "metadata": {},
   "outputs": [
    {
     "data": {
      "text/plain": [
       "0.9367421586151258"
      ]
     },
     "execution_count": 52,
     "metadata": {},
     "output_type": "execute_result"
    }
   ],
   "source": [
    "cmap[10]"
   ]
  },
  {
   "cell_type": "code",
   "execution_count": 46,
   "metadata": {},
   "outputs": [
    {
     "data": {
      "text/plain": [
       "(30,)"
      ]
     },
     "execution_count": 46,
     "metadata": {},
     "output_type": "execute_result"
    }
   ],
   "source": [
    "selected_data[:,0].shape"
   ]
  },
  {
   "cell_type": "code",
   "execution_count": 40,
   "metadata": {},
   "outputs": [
    {
     "data": {
      "text/plain": [
       "(70,)"
      ]
     },
     "execution_count": 40,
     "metadata": {},
     "output_type": "execute_result"
    }
   ],
   "source": [
    "selected_data[:,0].shape"
   ]
  },
  {
   "cell_type": "code",
   "execution_count": 36,
   "metadata": {},
   "outputs": [
    {
     "data": {
      "text/plain": [
       "(array([107, 109, 113, 137, 142, 143, 147, 165, 169, 172, 174, 175, 176,\n",
       "        177, 178, 179, 180, 204, 215, 270, 302, 303, 309, 315, 318, 356,\n",
       "        367, 371, 375, 386, 389, 390, 392, 393, 395, 417, 424, 426, 429,\n",
       "        442, 454, 475, 477, 480, 489, 497, 503, 510, 524, 535, 549, 552,\n",
       "        555, 572, 582, 583, 593, 617, 624, 643, 644, 653, 659, 683, 689,\n",
       "        702, 703, 704, 706, 732]),)"
      ]
     },
     "execution_count": 36,
     "metadata": {},
     "output_type": "execute_result"
    }
   ],
   "source": [
    "np.where(ys == label)"
   ]
  }
 ],
 "metadata": {
  "kernelspec": {
   "display_name": "Python 3",
   "language": "python",
   "name": "python3"
  },
  "language_info": {
   "codemirror_mode": {
    "name": "ipython",
    "version": 3
   },
   "file_extension": ".py",
   "mimetype": "text/x-python",
   "name": "python",
   "nbconvert_exporter": "python",
   "pygments_lexer": "ipython3",
   "version": "3.6.7"
  }
 },
 "nbformat": 4,
 "nbformat_minor": 2
}
