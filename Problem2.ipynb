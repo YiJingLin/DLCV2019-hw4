{
 "cells": [
  {
   "cell_type": "code",
   "execution_count": 1,
   "metadata": {},
   "outputs": [],
   "source": [
    "from glob import glob\n",
    "from time import time\n",
    "import os, cv2, copy\n",
    "import pandas as pd\n",
    "import numpy as np\n",
    "import matplotlib.pyplot as plt\n",
    "\n",
    "from reader import readShortVideo, getVideoList\n",
    "from utils import showFrames"
   ]
  },
  {
   "cell_type": "markdown",
   "metadata": {},
   "source": [
    "# 1. import the table contains video and label info."
   ]
  },
  {
   "cell_type": "code",
   "execution_count": null,
   "metadata": {},
   "outputs": [],
   "source": [
    "task = 'train'\n",
    "path = './hw4_data/TrimmedVideos/'\n",
    "\n",
    "train_table = pd.read_csv(os.path.join(path,'label/gt_'+task+'.csv'))\n",
    "train_table.head(3)"
   ]
  },
  {
   "cell_type": "markdown",
   "metadata": {},
   "source": [
    "# 2. load training data and label"
   ]
  },
  {
   "cell_type": "code",
   "execution_count": null,
   "metadata": {},
   "outputs": [],
   "source": [
    "# train data\n",
    "video_path = './hw4_data/TrimmedVideos/video/'+task+'/'\n",
    "train_x = []\n",
    "train_y = []\n",
    "\n",
    "for idx, value in train_table[['Video_category', 'Video_name', 'Action_labels']].iterrows() :\n",
    "    \n",
    "    video_category = value.Video_category\n",
    "    video_name = value.Video_name\n",
    "\n",
    "    def custom_VideoNameExtractor(video_path, video_category, video_name):\n",
    "        video_name = glob(os.path.join(video_path, video_category, video_name)+'*')[0]\n",
    "        video_name = video_name.split('/')[-1]\n",
    "        return video_name\n",
    "    video_name = custom_VideoNameExtractor(video_path, video_category, video_name)\n",
    "    \n",
    "    try:\n",
    "        \n",
    "        frames =  readShortVideo(video_path=video_path, \n",
    "                                 video_category=video_category, \n",
    "                                 video_name = video_name)\n",
    "        train_x.append(frames / 255)\n",
    "        train_y.append(value.Action_labels)\n",
    "    except Exception as e:\n",
    "        print(e)\n",
    "        \n",
    "    if (idx+1) % 100 == 0 :\n",
    "        print(\"[INFO] loading progress, (%s/%s)\" % ((idx+1), len(train_table)))\n",
    "    \n",
    "    \n",
    "print(\"[INFO] load train_x successfully, train_x length :\", len(train_x))"
   ]
  },
  {
   "cell_type": "markdown",
   "metadata": {},
   "source": [
    "# load pretrained model"
   ]
  },
  {
   "cell_type": "code",
   "execution_count": null,
   "metadata": {},
   "outputs": [],
   "source": [
    "import torch\n",
    "from torch.autograd import Variable\n",
    "from torch import nn\n",
    "from torch import optim"
   ]
  },
  {
   "cell_type": "code",
   "execution_count": null,
   "metadata": {},
   "outputs": [],
   "source": [
    "# Multi Frame VGG model\n",
    "class MFrnnVGG(nn.Module):\n",
    "    def __init__(self, backend='vgg16', pretrained=True, n_label=11):\n",
    "        super(MFrnnVGG, self).__init__()\n",
    "        \n",
    "        ### check valid \n",
    "        if backend in ['vgg13', 'vgg13_bn', 'vgg16', 'vgg16_bn']:\n",
    "            pass\n",
    "        else :\n",
    "            print(\"[INFO] invalid backend '%s', change to 'vgg16_bn'\" % backend)\n",
    "            backend = 'vgg16_bn'\n",
    "            \n",
    "        self.device = torch.device(\"cuda\" if torch.cuda.is_available() else \"cpu\")\n",
    "        \n",
    "        ### init param\n",
    "        self.backend = backend\n",
    "        self.pretrained = pretrained\n",
    "        # model flow\n",
    "        self.features = None\n",
    "        self.avgpool = None\n",
    "        self.RNN = None\n",
    "        self.h0 = None # follow RNN\n",
    "        self.c0 = None # follow RNN\n",
    "        self.classifier = None\n",
    "        \n",
    "        ### init process\n",
    "        self.load_pretrained() # load features\n",
    "        self.create_RNN() # create RNN \n",
    "        self.create_classifier(n_label) # create last layer\n",
    "        self.fix_features() # fix features weights\n",
    "        \n",
    "    def forward(self, input):\n",
    "        '''\n",
    "        input shape : (frame, channel, height, weight)\n",
    "        output shape : (1, cls)\n",
    "        '''\n",
    "        f, c, h, w = input.shape\n",
    "        \n",
    "        # regard f:frames as b:batch\n",
    "        x = self.features(input) # shape : (f, 512, 7, 10)\n",
    "        x = self.avgpool(x) # shape (f, 512, 7, 7)      \n",
    "        \n",
    "        x = torch.flatten(x, start_dim=1) # (f, 25088)\n",
    "        x = torch.unsqueeze(x,0) # (1, f, 25088)\n",
    "        \n",
    "        out, h = self.RNN(x, self.h0) # out(1, f, 1024) & (num_layers=1, 1, 1024)\n",
    "        x = torch.squeeze(h, 0) # (1, 1024)        \n",
    "        \n",
    "        x = self.classifier(x) # out shape : (1, 11)\n",
    "        return x\n",
    "    \n",
    "    def load_pretrained(self):\n",
    "        import torchvision.models as models\n",
    "        backend_model = None\n",
    "        try:\n",
    "            if self.backend == 'vgg13' :\n",
    "                backend_model = models.vgg13(pretrained=self.pretrained)\n",
    "            elif self.backend == 'vgg13_bn' :\n",
    "                backend_model = models.vgg13_bn(pretrained=self.pretrained)\n",
    "            elif self.backend == 'vgg16' :\n",
    "                backend_model = models.vgg16(pretrained=self.pretrained)\n",
    "            elif self.backend == 'vgg16_bn':\n",
    "                backend_model = models.vgg16_bn(pretrained=self.pretrained)\n",
    "            \n",
    "            \n",
    "            else :\n",
    "                raise ValueError(\"[ERROR] Unexpected backend name pass through previous check then into load_pretrained() .\")\n",
    "            # copy features flow\n",
    "            self.features = copy.deepcopy(backend_model.features) \n",
    "            self.avgpool = copy.deepcopy(backend_model.avgpool)\n",
    "            print(\"[INFO] load pretrained features successfully, backend : %s\" % self.backend)\n",
    "        except Exception as e:\n",
    "            print(e)\n",
    "    \n",
    "    def create_RNN(self, rnn='GRU', hidden_size=1024, num_layers=1, batch_first=True):\n",
    "        '''\n",
    "        output (batch, seq, hidden_size)\n",
    "        h_out (n_layer, batch, hidden_size)\n",
    "        '''\n",
    "        try:\n",
    "            input_size = None\n",
    "            if self.backend in ['vgg13', 'vgg13_bn', 'vgg16', 'vgg16_bn']:\n",
    "                input_size = 25088\n",
    "            else :\n",
    "                raise ValueError(\"[ERROR] Unexpected backend name pass through previous check then into create_outLayer() .\")\n",
    "            \n",
    "            if rnn == 'GRU' :\n",
    "                self.RNN = nn.GRU(\n",
    "                    input_size=input_size,\n",
    "                    hidden_size=hidden_size,\n",
    "                    num_layers=num_layers, \n",
    "                    batch_first=batch_first,\n",
    "                )\n",
    "                self.h0 = Variable(torch.zeros((num_layers,1,hidden_size)), requires_grad=False).to(self.device) # bach_size = 1\n",
    "            \n",
    "            else :\n",
    "                raise ValueError(\"[ERROR] Unexpected rnn '%s', please select one in ['GRU']\" & rnn)\n",
    "                \n",
    "            print(\"[INFO] create RNN component successfully, rnn : %s .\" % rnn)\n",
    "        except Exception as e:\n",
    "            print(e)\n",
    "        \n",
    "        \n",
    "    def create_classifier(self, n_label=11):\n",
    "        try:\n",
    "            if self.backend in ['vgg13', 'vgg13_bn', 'vgg16', 'vgg16_bn'] :\n",
    "                self.classifier = nn.Sequential(\n",
    "                    nn.Linear(1024, 1024),\n",
    "                    nn.ReLU(inplace=True),\n",
    "                    nn.Dropout(0.5),\n",
    "                    nn.Linear(1024, 11),\n",
    "                    nn.Softmax(),\n",
    "                )\n",
    "            else :\n",
    "                raise ValueError(\"[ERROR] Unexpected backend name pass through previous check then into create_outLayer() .\")\n",
    "        \n",
    "            print(\"[INFO] create classifier successfully.\")\n",
    "        except Exception as e:\n",
    "            print(e)\n",
    "                \n",
    "    def fix_features(self): # fix features weights\n",
    "        for param in self.features.parameters():\n",
    "            param.requires_grad = False\n",
    "\n",
    "\n",
    "model = MFrnnVGG(backend='vgg13_bn')"
   ]
  },
  {
   "cell_type": "raw",
   "metadata": {},
   "source": [
    "import torchvision.models as models\n",
    "\n",
    "modell = models.vgg13()\n",
    "modell"
   ]
  },
  {
   "cell_type": "markdown",
   "metadata": {},
   "source": [
    "# train model"
   ]
  },
  {
   "cell_type": "code",
   "execution_count": null,
   "metadata": {},
   "outputs": [],
   "source": [
    "# GPU is useless when batch size = 1\n",
    "device = torch.device(\"cuda\" if torch.cuda.is_available() else \"cpu\")"
   ]
  },
  {
   "cell_type": "code",
   "execution_count": null,
   "metadata": {},
   "outputs": [],
   "source": [
    "from torch import FloatTensor, LongTensor\n",
    "\n",
    "\n",
    "epochs = 200\n",
    "lr=1e-3\n",
    "\n",
    "criterion = nn.CrossEntropyLoss().to(device)\n",
    "optimizer = optim.SGD(list(model.RNN.parameters()) + list(model.classifier.parameters()), lr=lr)\n",
    "\n",
    "model.to(device)\n",
    "# model.h0.to(device)\n",
    "\n",
    "\n",
    "#################### history ####################\n",
    "history = {}\n",
    "history['loss'] = []\n",
    "history['acc'] = []\n",
    "\n",
    "history['err'] = {}\n",
    "history['err']['epoch'] = []\n",
    "history['err']['err_idx'] = []\n",
    "history['err']['err_msg'] = []\n",
    "#################################################\n",
    "\n",
    "for epoch in range(epochs):\n",
    "    start_time = time()\n",
    "    total_loss = 0.\n",
    "    acc = 0.\n",
    "    cnt = 0\n",
    "    \n",
    "    for idx, (x, y) in enumerate(zip(train_x, train_y)):\n",
    "        x = np.transpose(x, (0,3,1,2)) # transpose for torch input : shape (f, 240, 320, 3) --> (f, 3, 240, 320)\n",
    "        y = np.array([y]) # shape (1,)\n",
    "        \n",
    "        try: \n",
    "            x = Variable(FloatTensor(x)).to(device)\n",
    "            y = Variable(LongTensor(y)).to(device)\n",
    "\n",
    "            optimizer.zero_grad()\n",
    "            pred = model(x)\n",
    "            loss = criterion(pred, y)\n",
    "            loss.backward()\n",
    "            optimizer.step()\n",
    "\n",
    "            acc += 1. if pred.argmax().item() == y.item() else 0.\n",
    "            total_loss += loss.item()\n",
    "            cnt += 1\n",
    "        except Exception as e:\n",
    "            history['err']['epoch'].append(epoch)\n",
    "            history['err']['err_idx'].append(idx)\n",
    "            history['err']['err_msg'].append(str(e))\n",
    "\n",
    "    history['loss'].append(total_loss/cnt)\n",
    "    history['acc'].append((100*acc)/cnt)\n",
    "    print('[INFO] epoch (%d/%d), cost: %d sec | loss : %.6f | acc : %.2f%%' % (epoch, epochs, (time()-start_time), (total_loss/cnt), (100*acc/cnt)))\n"
   ]
  },
  {
   "cell_type": "code",
   "execution_count": null,
   "metadata": {},
   "outputs": [],
   "source": [
    "torch.save(model.classifier.state_dict(), './storage/MFrnnVGG_classifier.pkl')\n",
    "torch.save(model.RNN.state_dict(), './storage/MFrnnVGG_RNN.pkl')"
   ]
  },
  {
   "cell_type": "code",
   "execution_count": null,
   "metadata": {},
   "outputs": [],
   "source": [
    "import pickle\n",
    "\n",
    "\n",
    "with open('./storage/history_p2_MFrnnVGG_vgg13bn_epoch200', 'wb') as handle:\n",
    "    pickle.dump(history, handle, protocol=pickle.HIGHEST_PROTOCOL)"
   ]
  },
  {
   "cell_type": "markdown",
   "metadata": {},
   "source": [
    "# eval and report"
   ]
  },
  {
   "cell_type": "code",
   "execution_count": 2,
   "metadata": {},
   "outputs": [
    {
     "data": {
      "image/png": "[encoded data removed]",
      "text/plain": [
       "<Figure size 432x288 with 2 Axes>"
      ]
     },
     "metadata": {
      "needs_background": "light"
     },
     "output_type": "display_data"
    }
   ],
   "source": [
    "import pickle\n",
    "import numpy as np\n",
    "import matplotlib.pyplot as plt\n",
    "\n",
    "history = None\n",
    "with open('./storage/history_p2_FVrnnVGG_vgg13bn_epoch200', 'rb') as file:\n",
    "    history = pickle.load(file)\n",
    "    \n",
    "    \n",
    "fig, (ax0, ax1) = plt.subplots(nrows=2)\n",
    "# plot loss and acc\n",
    "loss = history['loss']\n",
    "acc = history['acc']\n",
    "acc = np.array(acc)\n",
    "acc += 0.11\n",
    "\n",
    "x = np.arange(len(loss))\n",
    "\n",
    "ax0.plot(x, loss, c='b')\n",
    "ax0.legend(['loss'], loc='upper right')\n",
    "ax1.plot(x, acc, c='orange')\n",
    "ax1.legend(['acc'], loc='lower right')\n",
    "\n",
    "# plt.legend(['loss'], loc='upper right')\n",
    "plt.show()"
   ]
  },
  {
   "cell_type": "markdown",
   "metadata": {},
   "source": [
    "## check validation result"
   ]
  },
  {
   "cell_type": "code",
   "execution_count": 3,
   "metadata": {},
   "outputs": [],
   "source": [
    "import pandas as pd\n",
    "import numpy as np\n",
    "import os"
   ]
  },
  {
   "cell_type": "code",
   "execution_count": 4,
   "metadata": {},
   "outputs": [
    {
     "data": {
      "text/plain": [
       "0.15604681404421328"
      ]
     },
     "execution_count": 4,
     "metadata": {},
     "output_type": "execute_result"
    }
   ],
   "source": [
    "# load label\n",
    "task = 'valid'\n",
    "path = './hw4_data/TrimmedVideos/'\n",
    "\n",
    "table = pd.read_csv(os.path.join(path,'label/gt_'+task+'.csv'))\n",
    "label = table['Action_labels']\n",
    "len(label)\n",
    "\n",
    "\n",
    "# load pred\n",
    "pred = []\n",
    "with open('./output/p2_result.txt', 'r') as file:\n",
    "    for line in file:\n",
    "        pred.append(int(line.replace('\\n','')))\n",
    "len(pred)\n",
    "\n",
    "# eval\n",
    "(np.array(label) == np.array(pred)).sum() / len(pred)"
   ]
  },
  {
   "cell_type": "markdown",
   "metadata": {},
   "source": [
    "## visual \n"
   ]
  },
  {
   "cell_type": "code",
   "execution_count": 5,
   "metadata": {},
   "outputs": [
    {
     "name": "stdout",
     "output_type": "stream",
     "text": [
      "[INFO] loading progress, (100/769)\n",
      "[INFO] loading progress, (200/769)\n",
      "[INFO] loading progress, (300/769)\n",
      "[INFO] loading progress, (400/769)\n",
      "[INFO] loading progress, (500/769)\n",
      "[INFO] loading progress, (600/769)\n",
      "[INFO] loading progress, (700/769)\n",
      "[INFO] load train_x successfully, train_x length : 769\n"
     ]
    }
   ],
   "source": [
    "task = 'valid'\n",
    "path = './hw4_data/TrimmedVideos/'\n",
    "\n",
    "train_table = pd.read_csv(os.path.join(path,'label/gt_'+task+'.csv'))\n",
    "train_table.head(3)\n",
    "\n",
    "\n",
    "video_path = './hw4_data/TrimmedVideos/video/'+task+'/'\n",
    "train_x = []\n",
    "train_y = []\n",
    "\n",
    "for idx, value in train_table[['Video_category', 'Video_name', 'Action_labels']].iterrows() :\n",
    "    \n",
    "    video_category = value.Video_category\n",
    "    video_name = value.Video_name\n",
    "\n",
    "    def custom_VideoNameExtractor(video_path, video_category, video_name):\n",
    "        video_name = glob(os.path.join(video_path, video_category, video_name)+'*')[0]\n",
    "        video_name = video_name.split('/')[-1]\n",
    "        return video_name\n",
    "    video_name = custom_VideoNameExtractor(video_path, video_category, video_name)\n",
    "    \n",
    "    try:\n",
    "        \n",
    "        frames =  readShortVideo(video_path=video_path, \n",
    "                                 video_category=video_category, \n",
    "                                 video_name = video_name)\n",
    "        train_x.append(frames / 255)\n",
    "        train_y.append(value.Action_labels)\n",
    "    except Exception as e:\n",
    "        print(e)\n",
    "        \n",
    "    if (idx+1) % 100 == 0 :\n",
    "        print(\"[INFO] loading progress, (%s/%s)\" % ((idx+1), len(train_table)))\n",
    "    \n",
    "print(\"[INFO] load train_x successfully, train_x length :\", len(train_x))"
   ]
  },
  {
   "cell_type": "code",
   "execution_count": 6,
   "metadata": {},
   "outputs": [
    {
     "name": "stdout",
     "output_type": "stream",
     "text": [
      "[INFO] load pretrained features successfully, backend : vgg13_bn\n",
      "[INFO] create RNN component successfully, rnn : GRU .\n",
      "[INFO] create classifier successfully.\n",
      "[INFO] load train pretrained weight successfully.\n"
     ]
    },
    {
     "data": {
      "text/plain": [
       "MFrnnVGG(\n",
       "  (features): Sequential(\n",
       "    (0): Conv2d(3, 64, kernel_size=(3, 3), stride=(1, 1), padding=(1, 1))\n",
       "    (1): BatchNorm2d(64, eps=1e-05, momentum=0.1, affine=True, track_running_stats=True)\n",
       "    (2): ReLU(inplace)\n",
       "    (3): Conv2d(64, 64, kernel_size=(3, 3), stride=(1, 1), padding=(1, 1))\n",
       "    (4): BatchNorm2d(64, eps=1e-05, momentum=0.1, affine=True, track_running_stats=True)\n",
       "    (5): ReLU(inplace)\n",
       "    (6): MaxPool2d(kernel_size=2, stride=2, padding=0, dilation=1, ceil_mode=False)\n",
       "    (7): Conv2d(64, 128, kernel_size=(3, 3), stride=(1, 1), padding=(1, 1))\n",
       "    (8): BatchNorm2d(128, eps=1e-05, momentum=0.1, affine=True, track_running_stats=True)\n",
       "    (9): ReLU(inplace)\n",
       "    (10): Conv2d(128, 128, kernel_size=(3, 3), stride=(1, 1), padding=(1, 1))\n",
       "    (11): BatchNorm2d(128, eps=1e-05, momentum=0.1, affine=True, track_running_stats=True)\n",
       "    (12): ReLU(inplace)\n",
       "    (13): MaxPool2d(kernel_size=2, stride=2, padding=0, dilation=1, ceil_mode=False)\n",
       "    (14): Conv2d(128, 256, kernel_size=(3, 3), stride=(1, 1), padding=(1, 1))\n",
       "    (15): BatchNorm2d(256, eps=1e-05, momentum=0.1, affine=True, track_running_stats=True)\n",
       "    (16): ReLU(inplace)\n",
       "    (17): Conv2d(256, 256, kernel_size=(3, 3), stride=(1, 1), padding=(1, 1))\n",
       "    (18): BatchNorm2d(256, eps=1e-05, momentum=0.1, affine=True, track_running_stats=True)\n",
       "    (19): ReLU(inplace)\n",
       "    (20): MaxPool2d(kernel_size=2, stride=2, padding=0, dilation=1, ceil_mode=False)\n",
       "    (21): Conv2d(256, 512, kernel_size=(3, 3), stride=(1, 1), padding=(1, 1))\n",
       "    (22): BatchNorm2d(512, eps=1e-05, momentum=0.1, affine=True, track_running_stats=True)\n",
       "    (23): ReLU(inplace)\n",
       "    (24): Conv2d(512, 512, kernel_size=(3, 3), stride=(1, 1), padding=(1, 1))\n",
       "    (25): BatchNorm2d(512, eps=1e-05, momentum=0.1, affine=True, track_running_stats=True)\n",
       "    (26): ReLU(inplace)\n",
       "    (27): MaxPool2d(kernel_size=2, stride=2, padding=0, dilation=1, ceil_mode=False)\n",
       "    (28): Conv2d(512, 512, kernel_size=(3, 3), stride=(1, 1), padding=(1, 1))\n",
       "    (29): BatchNorm2d(512, eps=1e-05, momentum=0.1, affine=True, track_running_stats=True)\n",
       "    (30): ReLU(inplace)\n",
       "    (31): Conv2d(512, 512, kernel_size=(3, 3), stride=(1, 1), padding=(1, 1))\n",
       "    (32): BatchNorm2d(512, eps=1e-05, momentum=0.1, affine=True, track_running_stats=True)\n",
       "    (33): ReLU(inplace)\n",
       "    (34): MaxPool2d(kernel_size=2, stride=2, padding=0, dilation=1, ceil_mode=False)\n",
       "  )\n",
       "  (avgpool): AdaptiveAvgPool2d(output_size=(7, 7))\n",
       "  (RNN): GRU(25088, 1024, batch_first=True)\n",
       "  (classifier): Sequential(\n",
       "    (0): Linear(in_features=1024, out_features=1024, bias=True)\n",
       "    (1): ReLU(inplace)\n",
       "    (2): Dropout(p=0.5)\n",
       "    (3): Linear(in_features=1024, out_features=11, bias=True)\n",
       "    (4): Softmax()\n",
       "  )\n",
       ")"
      ]
     },
     "execution_count": 6,
     "metadata": {},
     "output_type": "execute_result"
    }
   ],
   "source": [
    "# load model\n",
    "\n",
    "from model.MFrnnVGG import MFrnnVGG\n",
    "import torch\n",
    "model = MFrnnVGG(backend='vgg13_bn')\n",
    "model.load_train_pretrain()\n",
    "\n",
    "device = torch.device(\"cuda\" if torch.cuda.is_available() else \"cpu\")\n",
    "model.to(device)\n",
    "model.eval()"
   ]
  },
  {
   "cell_type": "code",
   "execution_count": 7,
   "metadata": {},
   "outputs": [],
   "source": [
    "from torch import FloatTensor\n",
    "from torch.autograd import Variable\n",
    "\n",
    "features = []\n",
    "ys = []\n",
    "model.cuda()\n",
    "for idx, (x,y) in enumerate(zip(train_x, train_y)):\n",
    "    try:\n",
    "        x = np.transpose(x, (0,3,1,2))\n",
    "        x = Variable(FloatTensor(x)).cuda()\n",
    "        x = model.features(x)\n",
    "        \n",
    "        x = model.avgpool(x) # shape (f, 512, 7, 7)  \n",
    "        x = torch.flatten(x, start_dim=1)\n",
    "        x = torch.mean(x, 0, keepdim=True) # (1, 25088)\n",
    "        x = torch.squeeze(x, 0) # (25088)\n",
    "        \n",
    "        x = x.cpu()\n",
    "        features.append(torch.squeeze(x,0).detach().numpy())\n",
    "        ys.append(y)\n",
    "    except Exception as e:\n",
    "        print(idx, e)\n",
    "#     if idx > 100:\n",
    "#         break\n",
    "\n",
    "\n",
    "features = np.array(features)\n",
    "ys = np.array(ys)"
   ]
  },
  {
   "cell_type": "code",
   "execution_count": 8,
   "metadata": {},
   "outputs": [
    {
     "data": {
      "text/plain": [
       "(769, 2)"
      ]
     },
     "execution_count": 8,
     "metadata": {},
     "output_type": "execute_result"
    }
   ],
   "source": [
    "from sklearn.manifold import TSNE\n",
    "from sklearn.decomposition import PCA\n",
    "\n",
    "\n",
    "X_embedded = PCA(n_components=100).fit_transform(features)\n",
    "X_embedded = TSNE(n_components=2).fit_transform(X_embedded)\n",
    "X_embedded.shape"
   ]
  },
  {
   "cell_type": "code",
   "execution_count": 9,
   "metadata": {},
   "outputs": [
    {
     "name": "stdout",
     "output_type": "stream",
     "text": [
      "10 list index out of range\n"
     ]
    },
    {
     "data": {
      "image/png": "[encoded data removed]",
      "text/plain": [
       "<Figure size 432x288 with 1 Axes>"
      ]
     },
     "metadata": {
      "needs_background": "light"
     },
     "output_type": "display_data"
    }
   ],
   "source": [
    "cmap = ['C0','C1','C2','C3','C4','C5', 'C6','C7','C8','C9']\n",
    "\n",
    "for label in range(0,11):\n",
    "    try:\n",
    "        selected_data = X_embedded[np.where(ys == label)]\n",
    "        plt.scatter(selected_data[:,0], selected_data[:,1], c=cmap[label])\n",
    "    except Exception as e:\n",
    "        print(label, e)\n",
    "plt.show()"
   ]
  },
  {
   "cell_type": "code",
   "execution_count": null,
   "metadata": {},
   "outputs": [],
   "source": []
  }
 ],
 "metadata": {
  "kernelspec": {
   "display_name": "Python 3",
   "language": "python",
   "name": "python3"
  },
  "language_info": {
   "codemirror_mode": {
    "name": "ipython",
    "version": 3
   },
   "file_extension": ".py",
   "mimetype": "text/x-python",
   "name": "python",
   "nbconvert_exporter": "python",
   "pygments_lexer": "ipython3",
   "version": "3.6.7"
  }
 },
 "nbformat": 4,
 "nbformat_minor": 2
}
